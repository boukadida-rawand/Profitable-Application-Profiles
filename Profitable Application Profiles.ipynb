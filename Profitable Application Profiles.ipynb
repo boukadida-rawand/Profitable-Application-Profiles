{
 "cells": [
  {
   "cell_type": "markdown",
   "id": "15ebaedc",
   "metadata": {},
   "source": [
    "# Profitable Application Profiles"
   ]
  },
  {
   "cell_type": "markdown",
   "id": "719b32ce",
   "metadata": {},
   "source": [
    "goal for this project is to analyze data to help our developers understand what type of apps are likely to attract more users."
   ]
  },
  {
   "cell_type": "markdown",
   "id": "4fdbbefc",
   "metadata": {},
   "source": [
    "## Opening and Exploring the Data"
   ]
  },
  {
   "cell_type": "code",
   "execution_count": 1,
   "id": "4a8fde70",
   "metadata": {},
   "outputs": [],
   "source": [
    "from csv import reader\n",
    "open_apple_store=open('AppleStore.csv',encoding='utf8')\n",
    "read_data1=reader(open_apple_store)\n",
    "data1=list(read_data1)\n",
    "\n"
   ]
  },
  {
   "cell_type": "code",
   "execution_count": 2,
   "id": "f1fb1935",
   "metadata": {},
   "outputs": [],
   "source": [
    "open_google_playstore=open('googleplaystore.csv',encoding='utf8')\n",
    "read_data2=reader(open_google_playstore)\n",
    "data2=list(read_data2)"
   ]
  },
  {
   "cell_type": "code",
   "execution_count": 3,
   "id": "def98265",
   "metadata": {},
   "outputs": [
    {
     "name": "stdout",
     "output_type": "stream",
     "text": [
      "[['389801252', 'Instagram', '113954816', 'USD', '0.0', '2161558', '1289', '4.5', '4.0', '10.23', '12+', 'Photo & Video', '37', '0', '29', '1']]\n",
      "[['529479190', 'Clash of Clans', '116476928', 'USD', '0.0', '2130805', '579', '4.5', '4.5', '9.24.12', '9+', 'Games', '38', '5', '18', '1']]\n",
      "[['420009108', 'Temple Run', '65921024', 'USD', '0.0', '1724546', '3842', '4.5', '4.0', '1.6.2', '9+', 'Games', '40', '5', '1', '1']]\n"
     ]
    }
   ],
   "source": [
    "print([data1[2]])\n",
    "print([data1[3]])\n",
    "print([data1[4]])"
   ]
  },
  {
   "cell_type": "code",
   "execution_count": 4,
   "id": "15fa9f4d",
   "metadata": {},
   "outputs": [
    {
     "name": "stdout",
     "output_type": "stream",
     "text": [
      "[['389801252', 'Instagram', '113954816', 'USD', '0.0', '2161558', '1289', '4.5', '4.0', '10.23', '12+', 'Photo & Video', '37', '0', '29', '1']]\n",
      "\n",
      "\n",
      "[['529479190', 'Clash of Clans', '116476928', 'USD', '0.0', '2130805', '579', '4.5', '4.5', '9.24.12', '9+', 'Games', '38', '5', '18', '1']]\n",
      "\n",
      "\n",
      "[['420009108', 'Temple Run', '65921024', 'USD', '0.0', '1724546', '3842', '4.5', '4.0', '1.6.2', '9+', 'Games', '40', '5', '1', '1']]\n"
     ]
    }
   ],
   "source": [
    "print([data1[2]])\n",
    "print('\\n')\n",
    "print([data1[3]])\n",
    "print('\\n')\n",
    "print([data1[4]])"
   ]
  },
  {
   "cell_type": "code",
   "execution_count": 5,
   "id": "ef7c3075",
   "metadata": {},
   "outputs": [],
   "source": [
    "def explore_data(dataset,start,end,rows_and_columns=False):\n",
    "    data_set_slice=dataset[start:end]\n",
    "    for row in data_set_slice:\n",
    "        print(row)\n",
    "        print('\\n')\n",
    "    if rows_and_columns:\n",
    "        print('the number of rows:',len(dataset))\n",
    "        print('the number of columns:',len(dataset[0]))\n",
    "        "
   ]
  },
  {
   "cell_type": "code",
   "execution_count": 6,
   "id": "8badf05e",
   "metadata": {},
   "outputs": [
    {
     "name": "stdout",
     "output_type": "stream",
     "text": [
      "Apple_Store: \n",
      "['284882215', 'Facebook', '389879808', 'USD', '0.0', '2974676', '212', '3.5', '3.5', '95.0', '4+', 'Social Networking', '37', '1', '29', '1']\n",
      "\n",
      "\n",
      "['389801252', 'Instagram', '113954816', 'USD', '0.0', '2161558', '1289', '4.5', '4.0', '10.23', '12+', 'Photo & Video', '37', '0', '29', '1']\n",
      "\n",
      "\n",
      "the number of rows: 7197\n",
      "the number of columns: 16\n"
     ]
    }
   ],
   "source": [
    "print('Apple_Store: ')\n",
    "explore_data(data1[1:], 0, 2, rows_and_columns=True)"
   ]
  },
  {
   "cell_type": "code",
   "execution_count": 7,
   "id": "6798a774",
   "metadata": {},
   "outputs": [
    {
     "name": "stdout",
     "output_type": "stream",
     "text": [
      "Google_PlayStore: \n",
      "['Photo Editor & Candy Camera & Grid & ScrapBook', 'ART_AND_DESIGN', '4.1', '159', '19M', '10,000+', 'Free', '0', 'Everyone', 'Art & Design', 'January 7, 2018', '1.0.0', '4.0.3 and up']\n",
      "\n",
      "\n",
      "['Coloring book moana', 'ART_AND_DESIGN', '3.9', '967', '14M', '500,000+', 'Free', '0', 'Everyone', 'Art & Design;Pretend Play', 'January 15, 2018', '2.0.0', '4.0.3 and up']\n",
      "\n",
      "\n",
      "the number of rows: 10841\n",
      "the number of columns: 13\n"
     ]
    }
   ],
   "source": [
    "print('Google_PlayStore: ')\n",
    "explore_data(data2[1:], 0, 2, rows_and_columns=True)"
   ]
  },
  {
   "cell_type": "code",
   "execution_count": 8,
   "id": "9ca250cd",
   "metadata": {},
   "outputs": [
    {
     "name": "stdout",
     "output_type": "stream",
     "text": [
      "Apple_store_column_names:\n",
      " ['id', 'track_name', 'size_bytes', 'currency', 'price', 'rating_count_tot', 'rating_count_ver', 'user_rating', 'user_rating_ver', 'ver', 'cont_rating', 'prime_genre', 'sup_devices.num', 'ipadSc_urls.num', 'lang.num', 'vpp_lic']\n",
      "\n",
      "\n",
      "google_playStore_column_names:\n",
      " ['App', 'Category', 'Rating', 'Reviews', 'Size', 'Installs', 'Type', 'Price', 'Content Rating', 'Genres', 'Last Updated', 'Current Ver', 'Android Ver']\n"
     ]
    }
   ],
   "source": [
    "Apple_store_column_names = data1[0]\n",
    "google_playStore_column_names = data2[0]\n",
    "\n",
    "print(\"Apple_store_column_names:\\n\",Apple_store_column_names)\n",
    "print('\\n')\n",
    "print(\"google_playStore_column_names:\\n\",google_playStore_column_names)"
   ]
  },
  {
   "cell_type": "markdown",
   "id": "c9357997",
   "metadata": {},
   "source": [
    "## Removing Duplicate Entries\n",
    "the data cleaning process and deleted a row with incorrect data "
   ]
  },
  {
   "cell_type": "code",
   "execution_count": 9,
   "id": "fd99e0f7",
   "metadata": {
    "scrolled": true
   },
   "outputs": [
    {
     "name": "stdout",
     "output_type": "stream",
     "text": [
      "['Instagram', 'SOCIAL', '4.5', '66577313', 'Varies with device', '1,000,000,000+', 'Free', '0', 'Teen', 'Social', 'July 31, 2018', 'Varies with device', 'Varies with device']\n",
      "['Instagram', 'SOCIAL', '4.5', '66577446', 'Varies with device', '1,000,000,000+', 'Free', '0', 'Teen', 'Social', 'July 31, 2018', 'Varies with device', 'Varies with device']\n",
      "['Instagram', 'SOCIAL', '4.5', '66577313', 'Varies with device', '1,000,000,000+', 'Free', '0', 'Teen', 'Social', 'July 31, 2018', 'Varies with device', 'Varies with device']\n",
      "['Instagram', 'SOCIAL', '4.5', '66509917', 'Varies with device', '1,000,000,000+', 'Free', '0', 'Teen', 'Social', 'July 31, 2018', 'Varies with device', 'Varies with device']\n"
     ]
    }
   ],
   "source": [
    "for app in data2:\n",
    "    name = app[0]\n",
    "    if name == 'Instagram':\n",
    "        print(app)"
   ]
  },
  {
   "cell_type": "code",
   "execution_count": 10,
   "id": "8790c39f",
   "metadata": {},
   "outputs": [
    {
     "name": "stdout",
     "output_type": "stream",
     "text": [
      "the number of duplicate apps: 1181\n",
      "the number of unique apps: 9661\n"
     ]
    }
   ],
   "source": [
    "unique_apps = []\n",
    "duplicate_apps = []\n",
    "\n",
    "for app in data2:\n",
    "    name = app[0]\n",
    "    if name in unique_apps:\n",
    "        duplicate_apps.append(name)\n",
    "    else:\n",
    "        unique_apps.append(name)\n",
    "print('the number of duplicate apps:', len(duplicate_apps))\n",
    "print('the number of unique apps:', len(unique_apps))"
   ]
  },
  {
   "cell_type": "markdown",
   "id": "be3559d9",
   "metadata": {},
   "source": [
    "# Creation of a dictionary"
   ]
  },
  {
   "cell_type": "code",
   "execution_count": 11,
   "id": "337ff42d",
   "metadata": {},
   "outputs": [
    {
     "name": "stdout",
     "output_type": "stream",
     "text": [
      "lengh of reviews_max:  9660\n"
     ]
    }
   ],
   "source": [
    "reviews_max = {}\n",
    "for apps in data2[1:]:\n",
    "    name = apps[0]\n",
    "    n_reviews = float(apps[2])\n",
    "    if name in reviews_max and n_reviews > reviews_max[name]:\n",
    "        reviews_max[name] = n_reviews    \n",
    "    elif name not in reviews_max:\n",
    "        reviews_max[name] = n_reviews\n",
    "print('lengh of reviews_max: ', len(reviews_max))\n"
   ]
  },
  {
   "cell_type": "code",
   "execution_count": 12,
   "id": "138e5b06",
   "metadata": {},
   "outputs": [],
   "source": [
    "android_clean = []\n",
    "already_added = []\n",
    "for apps in data2[1:]:\n",
    "    name = apps[0]\n",
    "    n_reviews = float(apps[2])\n",
    "    if n_reviews == reviews_max[name] and name not in already_added:\n",
    "        android_clean.append(apps)\n",
    "        already_added.append(name)"
   ]
  },
  {
   "cell_type": "code",
   "execution_count": 13,
   "id": "7a0dc719",
   "metadata": {},
   "outputs": [
    {
     "name": "stdout",
     "output_type": "stream",
     "text": [
      "['Photo Editor & Candy Camera & Grid & ScrapBook', 'ART_AND_DESIGN', '4.1', '159', '19M', '10,000+', 'Free', '0', 'Everyone', 'Art & Design', 'January 7, 2018', '1.0.0', '4.0.3 and up']\n",
      "\n",
      "\n",
      "['Coloring book moana', 'ART_AND_DESIGN', '3.9', '967', '14M', '500,000+', 'Free', '0', 'Everyone', 'Art & Design;Pretend Play', 'January 15, 2018', '2.0.0', '4.0.3 and up']\n",
      "\n",
      "\n",
      "the number of rows: 8197\n",
      "the number of columns: 13\n"
     ]
    }
   ],
   "source": [
    "explore_data(android_clean, 0, 2, True)"
   ]
  },
  {
   "attachments": {},
   "cell_type": "markdown",
   "id": "bb82ec0d",
   "metadata": {},
   "source": [
    "# Removing Non-English Apps:"
   ]
  },
  {
   "cell_type": "code",
   "execution_count": 14,
   "id": "f91143f4",
   "metadata": {},
   "outputs": [],
   "source": [
    "def english_or_no(string):\n",
    "    n=0\n",
    "    for letter in string:\n",
    "        if ord(letter) > 127:\n",
    "            n += 1\n",
    "    if n > 3:\n",
    "        return False\n",
    "    return True"
   ]
  },
  {
   "cell_type": "code",
   "execution_count": 16,
   "id": "37470963",
   "metadata": {},
   "outputs": [
    {
     "name": "stdout",
     "output_type": "stream",
     "text": [
      "True\n",
      "True\n",
      "False\n"
     ]
    }
   ],
   "source": [
    "print(is_english('Docs To Go™ Free Office Suite'))\n",
    "print(is_english('Instachat 😜'))\n",
    "print(is_english('爱奇艺PPS -《欢乐颂2》电视剧热播'))"
   ]
  },
  {
   "cell_type": "code",
   "execution_count": 17,
   "id": "d803e5a3",
   "metadata": {},
   "outputs": [],
   "source": [
    "english_android = []\n",
    "english_ios = []\n",
    "for row in android_clean:\n",
    "    name = row[0]\n",
    "    if is_english(name):\n",
    "        english_android.append(row)\n",
    "        "
   ]
  },
  {
   "cell_type": "code",
   "execution_count": 18,
   "id": "927e81d0",
   "metadata": {},
   "outputs": [
    {
     "name": "stdout",
     "output_type": "stream",
     "text": [
      "['Photo Editor & Candy Camera & Grid & ScrapBook', 'ART_AND_DESIGN', '4.1', '159', '19M', '10,000+', 'Free', '0', 'Everyone', 'Art & Design', 'January 7, 2018', '1.0.0', '4.0.3 and up']\n",
      "\n",
      "\n",
      "['Coloring book moana', 'ART_AND_DESIGN', '3.9', '967', '14M', '500,000+', 'Free', '0', 'Everyone', 'Art & Design;Pretend Play', 'January 15, 2018', '2.0.0', '4.0.3 and up']\n",
      "\n",
      "\n",
      "['U Launcher Lite – FREE Live Cool Themes, Hide Apps', 'ART_AND_DESIGN', '4.7', '87510', '8.7M', '5,000,000+', 'Free', '0', 'Everyone', 'Art & Design', 'August 1, 2018', '1.2.4', '4.0.3 and up']\n",
      "\n",
      "\n",
      "the number of rows: 8167\n",
      "the number of columns: 13\n"
     ]
    }
   ],
   "source": [
    "explore_data(english_android, 0, 3, True)"
   ]
  },
  {
   "attachments": {},
   "cell_type": "markdown",
   "id": "1b7b7933",
   "metadata": {},
   "source": [
    "# Isolating the Free Apps\n"
   ]
  },
  {
   "cell_type": "code",
   "execution_count": 19,
   "id": "b16b64a2",
   "metadata": {},
   "outputs": [],
   "source": [
    "free_android = []\n",
    "for row in english_android:\n",
    "    price = row[7]\n",
    "    if price == '0':\n",
    "        free_android.append(row)"
   ]
  },
  {
   "cell_type": "code",
   "execution_count": 20,
   "id": "5f618d5a",
   "metadata": {},
   "outputs": [
    {
     "name": "stdout",
     "output_type": "stream",
     "text": [
      "['Photo Editor & Candy Camera & Grid & ScrapBook', 'ART_AND_DESIGN', '4.1', '159', '19M', '10,000+', 'Free', '0', 'Everyone', 'Art & Design', 'January 7, 2018', '1.0.0', '4.0.3 and up']\n",
      "\n",
      "\n",
      "['Coloring book moana', 'ART_AND_DESIGN', '3.9', '967', '14M', '500,000+', 'Free', '0', 'Everyone', 'Art & Design;Pretend Play', 'January 15, 2018', '2.0.0', '4.0.3 and up']\n",
      "\n",
      "\n",
      "['U Launcher Lite – FREE Live Cool Themes, Hide Apps', 'ART_AND_DESIGN', '4.7', '87510', '8.7M', '5,000,000+', 'Free', '0', 'Everyone', 'Art & Design', 'August 1, 2018', '1.2.4', '4.0.3 and up']\n",
      "\n",
      "\n",
      "['Sketch - Draw & Paint', 'ART_AND_DESIGN', '4.5', '215644', '25M', '50,000,000+', 'Free', '0', 'Teen', 'Art & Design', 'June 8, 2018', 'Varies with device', '4.2 and up']\n",
      "\n",
      "\n",
      "['Pixel Draw - Number Art Coloring Book', 'ART_AND_DESIGN', '4.3', '967', '2.8M', '100,000+', 'Free', '0', 'Everyone', 'Art & Design;Creativity', 'June 20, 2018', '1.1', '4.4 and up']\n",
      "\n",
      "\n",
      "the number of rows: 7565\n",
      "the number of columns: 13\n"
     ]
    }
   ],
   "source": [
    "explore_data(free_android, 0, 5, True)"
   ]
  },
  {
   "attachments": {},
   "cell_type": "markdown",
   "id": "18163d9c",
   "metadata": {},
   "source": [
    "# Most Common Apps by Genre:"
   ]
  },
  {
   "cell_type": "code",
   "execution_count": 21,
   "id": "43bae842",
   "metadata": {},
   "outputs": [],
   "source": [
    "def freq_table(dataset, index):\n",
    "    freq_dict = {}\n",
    "    for row in dataset:\n",
    "        value = row[index]\n",
    "        if value in freq_dict:\n",
    "            freq_dict[value] += 1\n",
    "        else:\n",
    "            freq_dict[value] = 1\n",
    "    for key in freq_dict:\n",
    "        freq_dict[key]= freq_dict[key]/len(dataset) * 100\n",
    "    return freq_dict"
   ]
  },
  {
   "cell_type": "code",
   "execution_count": 22,
   "id": "e2d02c29",
   "metadata": {},
   "outputs": [],
   "source": [
    "def display_table(dataset, index):\n",
    "    table = freq_table(dataset, index)\n",
    "    table_display = []\n",
    "    for key in table:\n",
    "        key_val_as_tuple = (table[key], key)\n",
    "        table_display.append(key_val_as_tuple)\n",
    "\n",
    "    table_sorted = sorted(table_display, reverse = True)\n",
    "    for entry in table_sorted:\n",
    "        print(entry[1], ':', entry[0])"
   ]
  },
  {
   "cell_type": "code",
   "execution_count": 23,
   "id": "4a80fde3",
   "metadata": {},
   "outputs": [
    {
     "name": "stdout",
     "output_type": "stream",
     "text": [
      "FAMILY : 19.07468605419696\n",
      "GAME : 11.037673496364839\n",
      "TOOLS : 8.67151354923992\n",
      "FINANCE : 3.8202247191011236\n",
      "PRODUCTIVITY : 3.727693324520819\n",
      "LIFESTYLE : 3.688037012557832\n",
      "BUSINESS : 3.344348975545274\n",
      "PHOTOGRAPHY : 3.2782551222736287\n",
      "SPORTS : 3.146067415730337\n",
      "COMMUNICATION : 3.0931923331130204\n",
      "PERSONALIZATION : 3.0799735624586915\n",
      "HEALTH_AND_FITNESS : 3.0667547918043625\n",
      "MEDICAL : 3.0138797091870457\n",
      "SOCIAL : 2.6569729015201586\n",
      "NEWS_AND_MAGAZINES : 2.6173165895571713\n",
      "TRAVEL_AND_LOCAL : 2.3661599471249173\n",
      "SHOPPING : 2.3529411764705883\n",
      "BOOKS_AND_REFERENCE : 2.1017845340383343\n",
      "VIDEO_PLAYERS : 1.903502974223397\n",
      "DATING : 1.7316589557171185\n",
      "EDUCATION : 1.4937210839391937\n",
      "MAPS_AND_NAVIGATION : 1.4805023132848645\n",
      "ENTERTAINMENT : 1.3218770654329148\n",
      "FOOD_AND_DRINK : 1.2161269001982815\n",
      "AUTO_AND_VEHICLES : 0.9517514871116985\n",
      "WEATHER : 0.8592200925313946\n",
      "LIBRARIES_AND_DEMO : 0.8460013218770654\n",
      "HOUSE_AND_HOME : 0.8195637805684072\n",
      "ART_AND_DESIGN : 0.7534699272967614\n",
      "COMICS : 0.7005948446794449\n",
      "PARENTING : 0.634500991407799\n",
      "EVENTS : 0.5948446794448117\n",
      "BEAUTY : 0.5551883674818242\n"
     ]
    }
   ],
   "source": [
    "display_table(free_android, 1)"
   ]
  },
  {
   "cell_type": "code",
   "execution_count": 26,
   "id": "5c378c1f",
   "metadata": {},
   "outputs": [
    {
     "name": "stdout",
     "output_type": "stream",
     "text": [
      "Tools : 8.658294778585592\n",
      "Entertainment : 6.014540647719762\n",
      "Education : 5.393258426966292\n",
      "Finance : 3.8202247191011236\n",
      "Productivity : 3.727693324520819\n",
      "Lifestyle : 3.674818241903503\n",
      "Action : 3.5426305353602117\n",
      "Business : 3.344348975545274\n",
      "Photography : 3.2782551222736287\n",
      "Sports : 3.2253800396563124\n",
      "Communication : 3.0931923331130204\n",
      "Personalization : 3.0799735624586915\n",
      "Health & Fitness : 3.0667547918043625\n",
      "Medical : 3.0138797091870457\n",
      "Social : 2.6569729015201586\n",
      "News & Magazines : 2.6173165895571713\n",
      "Travel & Local : 2.3529411764705883\n",
      "Shopping : 2.3529411764705883\n",
      "Simulation : 2.313284864507601\n",
      "Books & Reference : 2.1017845340383343\n",
      "Arcade : 2.0356906807666886\n",
      "Casual : 1.982815598149372\n",
      "Video Players & Editors : 1.890284203569068\n",
      "Dating : 1.7316589557171185\n",
      "Maps & Navigation : 1.4805023132848645\n",
      "Food & Drink : 1.2161269001982815\n",
      "Racing : 1.1103767349636484\n",
      "Puzzle : 1.0971579643093192\n",
      "Role Playing : 1.0575016523463316\n",
      "Strategy : 1.0178453403833443\n",
      "Auto & Vehicles : 0.9517514871116985\n",
      "Weather : 0.8592200925313946\n",
      "Libraries & Demo : 0.8460013218770654\n",
      "House & Home : 0.8195637805684072\n",
      "Adventure : 0.7666886979510906\n",
      "Comics : 0.6873760740251157\n",
      "Art & Design : 0.6741573033707865\n",
      "Events : 0.5948446794448117\n",
      "Beauty : 0.5551883674818242\n",
      "Parenting : 0.5023132848645075\n",
      "Card : 0.5023132848645075\n",
      "Casino : 0.4758757435558493\n",
      "Educational;Education : 0.4362194315928619\n",
      "Board : 0.4230006609385327\n",
      "Educational : 0.39656311962987445\n",
      "Education;Education : 0.39656311962987445\n",
      "Trivia : 0.356906807666887\n",
      "Word : 0.29081295439524124\n",
      "Casual;Pretend Play : 0.2775941837409121\n",
      "Music : 0.22471910112359553\n",
      "Racing;Action & Adventure : 0.19828155981493722\n",
      "Puzzle;Brain Games : 0.19828155981493722\n",
      "Entertainment;Music & Video : 0.19828155981493722\n",
      "Casual;Brain Games : 0.15862524785194976\n",
      "Casual;Action & Adventure : 0.15862524785194976\n",
      "Arcade;Action & Adventure : 0.13218770654329146\n",
      "Action;Action & Adventure : 0.11896893588896232\n",
      "Educational;Pretend Play : 0.10575016523463318\n",
      "Simulation;Action & Adventure : 0.09253139458030403\n",
      "Entertainment;Brain Games : 0.09253139458030403\n",
      "Board;Brain Games : 0.09253139458030403\n",
      "Parenting;Music & Video : 0.07931262392597488\n",
      "Educational;Brain Games : 0.07931262392597488\n",
      "Casual;Creativity : 0.07931262392597488\n",
      "Art & Design;Creativity : 0.07931262392597488\n",
      "Education;Pretend Play : 0.06609385327164573\n",
      "Role Playing;Pretend Play : 0.05287508261731659\n",
      "Education;Creativity : 0.05287508261731659\n",
      "Role Playing;Action & Adventure : 0.03965631196298744\n",
      "Puzzle;Action & Adventure : 0.03965631196298744\n",
      "Parenting;Education : 0.03965631196298744\n",
      "Entertainment;Creativity : 0.03965631196298744\n",
      "Entertainment;Action & Adventure : 0.03965631196298744\n",
      "Educational;Creativity : 0.03965631196298744\n",
      "Educational;Action & Adventure : 0.03965631196298744\n",
      "Education;Music & Video : 0.03965631196298744\n",
      "Education;Brain Games : 0.03965631196298744\n",
      "Education;Action & Adventure : 0.03965631196298744\n",
      "Adventure;Action & Adventure : 0.03965631196298744\n",
      "Video Players & Editors;Music & Video : 0.026437541308658295\n",
      "Sports;Action & Adventure : 0.026437541308658295\n",
      "Simulation;Pretend Play : 0.026437541308658295\n",
      "Puzzle;Creativity : 0.026437541308658295\n",
      "Music;Music & Video : 0.026437541308658295\n",
      "Entertainment;Pretend Play : 0.026437541308658295\n",
      "Casual;Education : 0.026437541308658295\n",
      "Board;Action & Adventure : 0.026437541308658295\n",
      "Video Players & Editors;Creativity : 0.013218770654329148\n",
      "Travel & Local;Action & Adventure : 0.013218770654329148\n",
      "Tools;Education : 0.013218770654329148\n",
      "Strategy;Education : 0.013218770654329148\n",
      "Strategy;Creativity : 0.013218770654329148\n",
      "Strategy;Action & Adventure : 0.013218770654329148\n",
      "Simulation;Education : 0.013218770654329148\n",
      "Role Playing;Brain Games : 0.013218770654329148\n",
      "Racing;Pretend Play : 0.013218770654329148\n",
      "Puzzle;Education : 0.013218770654329148\n",
      "Parenting;Brain Games : 0.013218770654329148\n",
      "Music & Audio;Music & Video : 0.013218770654329148\n",
      "Lifestyle;Pretend Play : 0.013218770654329148\n",
      "Lifestyle;Education : 0.013218770654329148\n",
      "Health & Fitness;Education : 0.013218770654329148\n",
      "Health & Fitness;Action & Adventure : 0.013218770654329148\n",
      "Entertainment;Education : 0.013218770654329148\n",
      "Communication;Creativity : 0.013218770654329148\n",
      "Comics;Creativity : 0.013218770654329148\n",
      "Casual;Music & Video : 0.013218770654329148\n",
      "Card;Action & Adventure : 0.013218770654329148\n",
      "Books & Reference;Education : 0.013218770654329148\n",
      "Art & Design;Pretend Play : 0.013218770654329148\n",
      "Arcade;Pretend Play : 0.013218770654329148\n",
      "Adventure;Education : 0.013218770654329148\n"
     ]
    }
   ],
   "source": [
    "display_table(free_android, 9)"
   ]
  },
  {
   "attachments": {},
   "cell_type": "markdown",
   "id": "c663b56e",
   "metadata": {},
   "source": [
    "# Most Popular Apps by Genre on the App Store"
   ]
  },
  {
   "cell_type": "code",
   "execution_count": 27,
   "id": "ac3fa447",
   "metadata": {},
   "outputs": [
    {
     "name": "stdout",
     "output_type": "stream",
     "text": [
      "ART_AND_DESIGN :  2003791.2280701755\n",
      "AUTO_AND_VEHICLES :  737219.4444444445\n",
      "BEAUTY :  640861.9047619047\n",
      "BOOKS_AND_REFERENCE :  10476157.264150944\n",
      "BUSINESS :  2753974.1501976284\n",
      "COMICS :  847567.9245283019\n",
      "COMMUNICATION :  47166160.384615384\n",
      "DATING :  1075582.5190839695\n",
      "EDUCATION :  3108407.079646018\n",
      "ENTERTAINMENT :  21134600.0\n",
      "EVENTS :  354431.3333333333\n",
      "FINANCE :  1574833.2179930797\n",
      "FOOD_AND_DRINK :  2300192.934782609\n",
      "HEALTH_AND_FITNESS :  4885919.051724138\n",
      "HOUSE_AND_HOME :  1565838.7096774194\n",
      "LIBRARIES_AND_DEMO :  813796.875\n",
      "LIFESTYLE :  1782802.9032258065\n",
      "GAME :  16655938.269461079\n",
      "FAMILY :  3045982.508662509\n",
      "MEDICAL :  168882.35087719298\n",
      "SOCIAL :  27302664.05472637\n",
      "SHOPPING :  7866974.382022472\n",
      "PHOTOGRAPHY :  18738970.201612905\n",
      "SPORTS :  4601628.844537815\n",
      "TRAVEL_AND_LOCAL :  16171381.56424581\n",
      "TOOLS :  12344508.658536585\n",
      "PERSONALIZATION :  6562636.9527897\n",
      "PRODUCTIVITY :  20537621.879432622\n",
      "PARENTING :  647208.5416666666\n",
      "WEATHER :  5542846.153846154\n",
      "VIDEO_PLAYERS :  27268931.944444444\n",
      "NEWS_AND_MAGAZINES :  11960046.212121213\n",
      "MAPS_AND_NAVIGATION :  4491486.25\n"
     ]
    }
   ],
   "source": [
    "for category in freq_table(free_android, 1):\n",
    "    total = 0\n",
    "    len_category = 0\n",
    "    for row in free_android:\n",
    "        category_app = row[1]\n",
    "        if category_app == category:\n",
    "            n_install = row[5]\n",
    "            n_install = n_install.replace('+', '')\n",
    "            n_install = n_install.replace(',', '')\n",
    "            n_install = float(n_install)\n",
    "            total += n_install\n",
    "            len_category += 1\n",
    "    avg_number_install = total / len_category\n",
    "    print(category, ': ', avg_number_install)"
   ]
  },
  {
   "cell_type": "code",
   "execution_count": 28,
   "id": "ccf4292b",
   "metadata": {},
   "outputs": [
    {
     "name": "stdout",
     "output_type": "stream",
     "text": [
      "Messenger – Text and Video Chat for Free : 1,000,000,000+\n",
      "WhatsApp Messenger : 1,000,000,000+\n",
      "Google Chrome: Fast & Secure : 1,000,000,000+\n",
      "Messenger Lite: Free Calls & Messages : 100,000,000+\n",
      "Gmail : 1,000,000,000+\n",
      "Hangouts : 1,000,000,000+\n",
      "Viber Messenger : 500,000,000+\n",
      "Firefox Browser fast & private : 100,000,000+\n",
      "Yahoo Mail – Stay Organized : 100,000,000+\n",
      "imo beta free calls and text : 100,000,000+\n",
      "imo free video calls and chat : 500,000,000+\n",
      "Opera Mini - fast web browser : 100,000,000+\n",
      "Opera Browser: Fast and Secure : 100,000,000+\n",
      "Who : 100,000,000+\n",
      "WeChat : 100,000,000+\n",
      "UC Browser Mini -Tiny Fast Private & Secure : 100,000,000+\n",
      "Android Messages : 100,000,000+\n",
      "Telegram : 100,000,000+\n",
      "Google Duo - High Quality Video Calls : 500,000,000+\n",
      "UC Browser - Fast Download Private & Secure : 500,000,000+\n",
      "Skype - free IM & video calls : 1,000,000,000+\n",
      "GO SMS Pro - Messenger, Free Themes, Emoji : 100,000,000+\n",
      "LINE: Free Calls & Messages : 500,000,000+\n",
      "BBM - Free Calls & Messages : 100,000,000+\n",
      "KakaoTalk: Free Calls & Text : 100,000,000+\n",
      "Truecaller: Caller ID, SMS spam blocking & Dialer : 100,000,000+\n",
      "Kik : 100,000,000+\n"
     ]
    }
   ],
   "source": [
    "for app in free_android:\n",
    "    if app[1] == 'COMMUNICATION' and (app[5] == '1,000,000,000+'\n",
    "                                      or app[5] == '500,000,000+'\n",
    "                                      or app[5] == '100,000,000+'):\n",
    "        print(app[0], ':', app[5])"
   ]
  },
  {
   "cell_type": "code",
   "execution_count": 29,
   "id": "036aaf79",
   "metadata": {},
   "outputs": [
    {
     "data": {
      "text/plain": [
       "4525997.729468599"
      ]
     },
     "execution_count": 29,
     "metadata": {},
     "output_type": "execute_result"
    }
   ],
   "source": [
    "under_100_m = []\n",
    "\n",
    "for app in free_android:\n",
    "    n_installs = app[5]\n",
    "    n_installs = n_installs.replace(',', '')\n",
    "    n_installs = n_installs.replace('+', '')\n",
    "    if (app[1] == 'COMMUNICATION') and (float(n_installs) < 100000000):\n",
    "        under_100_m.append(float(n_installs))\n",
    "        \n",
    "sum(under_100_m) / len(under_100_m)"
   ]
  },
  {
   "cell_type": "code",
   "execution_count": 30,
   "id": "60153d41",
   "metadata": {},
   "outputs": [
    {
     "name": "stdout",
     "output_type": "stream",
     "text": [
      "Wattpad 📖 Free Books : 100,000,000+\n",
      "E-Book Read - Read Book for free : 50,000+\n",
      "Download free book with green book : 100,000+\n",
      "Wikipedia : 10,000,000+\n",
      "Amazon Kindle : 100,000,000+\n",
      "Cool Reader : 10,000,000+\n",
      "Dictionary - Merriam-Webster : 10,000,000+\n",
      "NOOK: Read eBooks & Magazines : 10,000,000+\n",
      "Free Panda Radio Music : 100,000+\n",
      "Book store : 1,000,000+\n",
      "FBReader: Favorite Book Reader : 10,000,000+\n",
      "English Grammar Complete Handbook : 500,000+\n",
      "Free Books - Spirit Fanfiction and Stories : 1,000,000+\n",
      "Google Play Books : 1,000,000,000+\n",
      "AlReader -any text book reader : 5,000,000+\n",
      "Offline English Dictionary : 100,000+\n",
      "Oxford Dictionary of English : Free : 10,000,000+\n",
      "Offline: English to Tagalog Dictionary : 500,000+\n",
      "Spanish English Translator : 10,000,000+\n",
      "FamilySearch Tree : 1,000,000+\n",
      "Cloud of Books : 1,000,000+\n",
      "Recipes of Prophetic Medicine for free : 500,000+\n",
      "ReadEra – free ebook reader : 1,000,000+\n",
      "NOOK App for NOOK Devices : 500,000+\n",
      "Ebook Reader : 5,000,000+\n",
      "Litnet - E-books : 100,000+\n",
      "Read books online : 5,000,000+\n",
      "English to Urdu Dictionary : 500,000+\n",
      "eBoox: book reader fb2 epub zip : 1,000,000+\n",
      "English Persian Dictionary : 500,000+\n",
      "Flybook : 500,000+\n",
      "All Maths Formulas : 1,000,000+\n",
      "Ancestry : 5,000,000+\n",
      "HTC Help : 10,000,000+\n",
      "English translation from Bengali : 100,000+\n",
      "Pdf Book Download - Read Pdf Book : 100,000+\n",
      "Free Book Reader : 100,000+\n",
      "eBoox new: Reader for fb2 epub zip books : 50,000+\n",
      "Only 30 days in English, the guideline is guaranteed : 500,000+\n",
      "Moon+ Reader : 10,000,000+\n",
      "English-Myanmar Dictionary : 1,000,000+\n",
      "Golden Dictionary (EN-AR) : 1,000,000+\n",
      "All Language Translator Free : 1,000,000+\n",
      "Azpen eReader : 500,000+\n",
      "English Dictionary - Offline : 10,000,000+\n",
      "Bible : 100,000,000+\n",
      "C Programs and Reference : 50,000+\n",
      "C Offline Tutorial : 1,000+\n",
      "C Programs Handbook : 50,000+\n",
      "Aab e Hayat Full Novel : 100,000+\n",
      "Aldiko Book Reader : 10,000,000+\n",
      "Google I/O 2018 : 500,000+\n",
      "R Language Reference Guide : 10,000+\n",
      "R Programing Offline Tutorial : 1,000+\n",
      "V Made : 100,000+\n",
      "Dictionary - WordWeb : 5,000,000+\n",
      "Guide (for X-MEN) : 100,000+\n",
      "AC Air condition Troubleshoot,Repair,Maintenance : 5,000+\n",
      "AE Bulletins : 1,000+\n",
      "Ae Allah na Dai (Rasa) : 10,000+\n",
      "50000 Free eBooks & Free AudioBooks : 5,000,000+\n",
      "Ag PhD Field Guide : 10,000+\n",
      "Ag PhD Deficiencies : 10,000+\n",
      "Fertilizer Removal By Crop : 50,000+\n",
      "Al-Quran (Free) : 10,000,000+\n",
      "Al Quran (Tafsir & by Word) : 500,000+\n",
      "Al Quran Indonesia : 10,000,000+\n",
      "Al'Quran Bahasa Indonesia : 10,000,000+\n",
      "Al Quran Al karim : 1,000,000+\n",
      "Al-Muhaffiz : 50,000+\n",
      "Al Quran : EAlim - Translations & MP3 Offline : 5,000,000+\n",
      "Al-Quran 30 Juz free copies : 500,000+\n",
      "Koran Read &MP3 30 Juz Offline : 1,000,000+\n",
      "Hafizi Quran 15 lines per page : 1,000,000+\n",
      "Quran for Android : 10,000,000+\n",
      "Surah Al-Waqiah : 100,000+\n",
      "Hisnul Al Muslim - Hisn Invocations & Adhkaar : 100,000+\n",
      "Satellite AR : 1,000,000+\n",
      "Audiobooks from Audible : 100,000,000+\n",
      "Kinot & Eichah for Tisha B'Av : 10,000+\n",
      "AW Tozer Devotionals - Daily : 5,000+\n",
      "Tozer Devotional -Series 1 : 1,000+\n",
      "The Pursuit of God : 1,000+\n",
      "AY Sing : 5,000+\n",
      "Ay Hasnain k Nana Milad Naat : 10,000+\n",
      "Ay Mohabbat Teri Khatir Novel : 10,000+\n",
      "Arizona Statutes, ARS (AZ Law) : 1,000+\n",
      "Oxford A-Z of English Usage : 1,000,000+\n",
      "BD Fishpedia : 1,000+\n",
      "BD All Sim Offer : 10,000+\n",
      "Youboox - Livres, BD et magazines : 500,000+\n",
      "B&H Kids AR : 10,000+\n",
      "B y H Niños ES : 5,000+\n",
      "Dictionary.com: Find Definitions for English Words : 10,000,000+\n",
      "Bible KJV : 5,000,000+\n",
      "Borneo Bible, BM Bible : 10,000+\n",
      "BM Box : 1,000+\n",
      "NOOK Audiobooks : 500,000+\n",
      "Browsery by Barnes & Noble : 5,000+\n",
      "bp e-store : 1,000+\n",
      "Brilliant Quotes: Life, Love, Family & Motivation : 1,000,000+\n",
      "BR Ambedkar Biography & Quotes : 10,000+\n",
      "Catholic La Bu Zo Kam : 500+\n",
      "Kristian Hla Bu : 10,000+\n",
      "SA HLA BU : 1,000+\n",
      "CA Laws 2018 (California Laws and Codes) : 5,000+\n",
      "Bootable Methods(USB-CD-DVD) : 10,000+\n",
      "cloudLibrary : 100,000+\n",
      "SDA Collegiate Quarterly : 500+\n",
      "Sabbath School : 100,000+\n",
      "Stats Royale for Clash Royale : 1,000,000+\n",
      "Learn CT Scan Of Head : 5,000+\n",
      "Easy Cv maker 2018 : 10,000+\n",
      "How to Write CV : 100,000+\n",
      "CW Nuclear : 1,000+\n",
      "CZ-Help : 5+\n",
      "Guide for DB Xenoverse : 10,000+\n",
      "Guide for DB Xenoverse 2 : 10,000+\n",
      "DC HSEMA : 5,000+\n",
      "DC Public Library : 1,000+\n",
      "Dictionary : 10,000,000+\n",
      "Fix Error Google Playstore : 1,000+\n",
      "Bilingual Dictionary Audio App : 5,000+\n",
      "DM Screen : 10,000+\n",
      "wikiHow: how to do anything : 1,000,000+\n",
      "Dr. Doug's Tips : 1,000+\n",
      "Bible du Semeur-BDS (French) : 50,000+\n",
      "La citadelle du musulman : 50,000+\n",
      "DV 2019 Entry Guide : 10,000+\n",
      "DV 2019 - EDV Photo & Form : 50,000+\n",
      "DV 2018 Winners Guide : 1,000+\n",
      "EB Annual Meetings : 1,000+\n",
      "EC - AP & Telangana : 5,000+\n",
      "TN Patta Citta & EC : 10,000+\n",
      "AP Stamps and Registration : 10,000+\n",
      "EGW Writings 2 : 100,000+\n",
      "EGW Writings : 1,000,000+\n",
      "Bible with EGW Comments : 100,000+\n",
      "My Little Pony AR Guide : 1,000,000+\n",
      "SDA Sabbath School Quarterly : 500,000+\n",
      "Duaa Ek Ibaadat : 5,000+\n",
      "JW Library : 10,000,000+\n",
      "English Hindi Dictionary : 10,000,000+\n",
      "English to Hindi Dictionary : 5,000,000+\n",
      "EP Research Service : 1,000+\n",
      "Hymnes et Louanges : 100,000+\n",
      "EU Charter : 1,000+\n",
      "EU Data Protection : 1,000+\n",
      "BakaReader EX : 100,000+\n",
      "EZ Quran : 50,000+\n",
      "FA Part 1 & 2 Past Papers Solved Free – Offline : 5,000+\n",
      "Florida - Pocket Brainbook : 1,000+\n",
      "Florida Statutes (FL Code) : 1,000+\n",
      "English To Shona Dictionary : 10,000+\n",
      "Golden Dictionary (FR-AR) : 500,000+\n",
      "Fanfic-FR : 5,000+\n",
      "Bulgarian French Dictionary Fr : 10,000+\n",
      "Chemin (fr) : 1,000+\n",
      "The SCP Foundation DB fr nn5n : 1,000+\n"
     ]
    }
   ],
   "source": [
    "for app in free_android:\n",
    "    if app[1] == 'BOOKS_AND_REFERENCE':\n",
    "        print(app[0], ':', app[5])"
   ]
  },
  {
   "cell_type": "code",
   "execution_count": 31,
   "id": "56928eac",
   "metadata": {},
   "outputs": [
    {
     "name": "stdout",
     "output_type": "stream",
     "text": [
      "Wattpad 📖 Free Books : 100,000,000+\n",
      "Amazon Kindle : 100,000,000+\n",
      "Google Play Books : 1,000,000,000+\n",
      "Bible : 100,000,000+\n",
      "Audiobooks from Audible : 100,000,000+\n"
     ]
    }
   ],
   "source": [
    "for app in free_android:\n",
    "    if app[1] == 'BOOKS_AND_REFERENCE' and (app[5] == '1,000,000,000+'\n",
    "                                            or app[5] == '500,000,000+'\n",
    "                                            or app[5] == '100,000,000+'):\n",
    "        print(app[0], ':', app[5])"
   ]
  },
  {
   "cell_type": "code",
   "execution_count": 32,
   "id": "12d9c7e8",
   "metadata": {},
   "outputs": [
    {
     "name": "stdout",
     "output_type": "stream",
     "text": [
      "Wikipedia : 10,000,000+\n",
      "Cool Reader : 10,000,000+\n",
      "Dictionary - Merriam-Webster : 10,000,000+\n",
      "NOOK: Read eBooks & Magazines : 10,000,000+\n",
      "Book store : 1,000,000+\n",
      "FBReader: Favorite Book Reader : 10,000,000+\n",
      "Free Books - Spirit Fanfiction and Stories : 1,000,000+\n",
      "AlReader -any text book reader : 5,000,000+\n",
      "Oxford Dictionary of English : Free : 10,000,000+\n",
      "Spanish English Translator : 10,000,000+\n",
      "FamilySearch Tree : 1,000,000+\n",
      "Cloud of Books : 1,000,000+\n",
      "ReadEra – free ebook reader : 1,000,000+\n",
      "Ebook Reader : 5,000,000+\n",
      "Read books online : 5,000,000+\n",
      "eBoox: book reader fb2 epub zip : 1,000,000+\n",
      "All Maths Formulas : 1,000,000+\n",
      "Ancestry : 5,000,000+\n",
      "HTC Help : 10,000,000+\n",
      "Moon+ Reader : 10,000,000+\n",
      "English-Myanmar Dictionary : 1,000,000+\n",
      "Golden Dictionary (EN-AR) : 1,000,000+\n",
      "All Language Translator Free : 1,000,000+\n",
      "English Dictionary - Offline : 10,000,000+\n",
      "Aldiko Book Reader : 10,000,000+\n",
      "Dictionary - WordWeb : 5,000,000+\n",
      "50000 Free eBooks & Free AudioBooks : 5,000,000+\n",
      "Al-Quran (Free) : 10,000,000+\n",
      "Al Quran Indonesia : 10,000,000+\n",
      "Al'Quran Bahasa Indonesia : 10,000,000+\n",
      "Al Quran Al karim : 1,000,000+\n",
      "Al Quran : EAlim - Translations & MP3 Offline : 5,000,000+\n",
      "Koran Read &MP3 30 Juz Offline : 1,000,000+\n",
      "Hafizi Quran 15 lines per page : 1,000,000+\n",
      "Quran for Android : 10,000,000+\n",
      "Satellite AR : 1,000,000+\n",
      "Oxford A-Z of English Usage : 1,000,000+\n",
      "Dictionary.com: Find Definitions for English Words : 10,000,000+\n",
      "Bible KJV : 5,000,000+\n",
      "Brilliant Quotes: Life, Love, Family & Motivation : 1,000,000+\n",
      "Stats Royale for Clash Royale : 1,000,000+\n",
      "Dictionary : 10,000,000+\n",
      "wikiHow: how to do anything : 1,000,000+\n",
      "EGW Writings : 1,000,000+\n",
      "My Little Pony AR Guide : 1,000,000+\n",
      "JW Library : 10,000,000+\n",
      "English Hindi Dictionary : 10,000,000+\n",
      "English to Hindi Dictionary : 5,000,000+\n"
     ]
    }
   ],
   "source": [
    "for app in free_android:\n",
    "    if app[1] == 'BOOKS_AND_REFERENCE' and (app[5] == '1,000,000+'\n",
    "                                            or app[5] == '5,000,000+'\n",
    "                                            or app[5] == '10,000,000+'\n",
    "                                            or app[5] == '50,000,000+'):\n",
    "        print(app[0], ':', app[5])"
   ]
  }
 ],
 "metadata": {
  "kernelspec": {
   "display_name": "Python 3 (ipykernel)",
   "language": "python",
   "name": "python3"
  },
  "language_info": {
   "codemirror_mode": {
    "name": "ipython",
    "version": 3
   },
   "file_extension": ".py",
   "mimetype": "text/x-python",
   "name": "python",
   "nbconvert_exporter": "python",
   "pygments_lexer": "ipython3",
   "version": "3.9.12"
  }
 },
 "nbformat": 4,
 "nbformat_minor": 5
}
