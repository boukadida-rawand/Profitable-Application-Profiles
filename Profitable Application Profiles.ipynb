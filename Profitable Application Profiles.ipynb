{
 "cells": [
  {
   "cell_type": "markdown",
   "id": "15ebaedc",
   "metadata": {},
   "source": [
    "# Profitable Application Profiles"
   ]
  },
  {
   "cell_type": "markdown",
   "id": "719b32ce",
   "metadata": {},
   "source": [
    "goal for this project is to analyze data to help our developers understand what type of apps are likely to attract more users."
   ]
  },
  {
   "cell_type": "markdown",
   "id": "4fdbbefc",
   "metadata": {},
   "source": [
    "## Opening and Exploring the Data"
   ]
  },
  {
   "cell_type": "code",
   "execution_count": 1,
   "id": "4a8fde70",
   "metadata": {},
   "outputs": [],
   "source": [
    "from csv import reader\n",
    "open_apple_store=open('AppleStore.csv',encoding='utf8')\n",
    "read_data1=reader(open_apple_store)\n",
    "data1=list(read_data1)\n",
    "\n"
   ]
  },
  {
   "cell_type": "code",
   "execution_count": 2,
   "id": "f1fb1935",
   "metadata": {},
   "outputs": [],
   "source": [
    "open_google_playstore=open('googleplaystore.csv',encoding='utf8')\n",
    "read_data2=reader(open_google_playstore)\n",
    "data2=list(read_data2)"
   ]
  },
  {
   "cell_type": "code",
   "execution_count": 3,
   "id": "def98265",
   "metadata": {},
   "outputs": [
    {
     "name": "stdout",
     "output_type": "stream",
     "text": [
      "[['389801252', 'Instagram', '113954816', 'USD', '0.0', '2161558', '1289', '4.5', '4.0', '10.23', '12+', 'Photo & Video', '37', '0', '29', '1']]\n",
      "[['529479190', 'Clash of Clans', '116476928', 'USD', '0.0', '2130805', '579', '4.5', '4.5', '9.24.12', '9+', 'Games', '38', '5', '18', '1']]\n",
      "[['420009108', 'Temple Run', '65921024', 'USD', '0.0', '1724546', '3842', '4.5', '4.0', '1.6.2', '9+', 'Games', '40', '5', '1', '1']]\n"
     ]
    }
   ],
   "source": [
    "print([data1[2]])\n",
    "print([data1[3]])\n",
    "print([data1[4]])"
   ]
  },
  {
   "cell_type": "code",
   "execution_count": 4,
   "id": "15fa9f4d",
   "metadata": {},
   "outputs": [
    {
     "name": "stdout",
     "output_type": "stream",
     "text": [
      "[['389801252', 'Instagram', '113954816', 'USD', '0.0', '2161558', '1289', '4.5', '4.0', '10.23', '12+', 'Photo & Video', '37', '0', '29', '1']]\n",
      "\n",
      "\n",
      "[['529479190', 'Clash of Clans', '116476928', 'USD', '0.0', '2130805', '579', '4.5', '4.5', '9.24.12', '9+', 'Games', '38', '5', '18', '1']]\n",
      "\n",
      "\n",
      "[['420009108', 'Temple Run', '65921024', 'USD', '0.0', '1724546', '3842', '4.5', '4.0', '1.6.2', '9+', 'Games', '40', '5', '1', '1']]\n"
     ]
    }
   ],
   "source": [
    "print([data1[2]])\n",
    "print('\\n')\n",
    "print([data1[3]])\n",
    "print('\\n')\n",
    "print([data1[4]])"
   ]
  },
  {
   "cell_type": "code",
   "execution_count": 5,
   "id": "ef7c3075",
   "metadata": {},
   "outputs": [],
   "source": [
    "def explore_data(dataset,start,end,rows_and_columns=False):\n",
    "    data_set_slice=dataset[start:end]\n",
    "    for row in data_set_slice:\n",
    "        print(row)\n",
    "        print('\\n')\n",
    "    if rows_and_columns:\n",
    "        print('the number of rows:',len(dataset))\n",
    "        print('the number of columns:',len(dataset[0]))\n",
    "        "
   ]
  },
  {
   "cell_type": "code",
   "execution_count": 6,
   "id": "8badf05e",
   "metadata": {},
   "outputs": [
    {
     "name": "stdout",
     "output_type": "stream",
     "text": [
      "Apple_Store: \n",
      "['284882215', 'Facebook', '389879808', 'USD', '0.0', '2974676', '212', '3.5', '3.5', '95.0', '4+', 'Social Networking', '37', '1', '29', '1']\n",
      "\n",
      "\n",
      "['389801252', 'Instagram', '113954816', 'USD', '0.0', '2161558', '1289', '4.5', '4.0', '10.23', '12+', 'Photo & Video', '37', '0', '29', '1']\n",
      "\n",
      "\n",
      "the number of rows: 7197\n",
      "the number of columns: 16\n"
     ]
    }
   ],
   "source": [
    "print('Apple_Store: ')\n",
    "explore_data(data1[1:], 0, 2, rows_and_columns=True)"
   ]
  },
  {
   "cell_type": "code",
   "execution_count": 7,
   "id": "6798a774",
   "metadata": {},
   "outputs": [
    {
     "name": "stdout",
     "output_type": "stream",
     "text": [
      "Google_PlayStore: \n",
      "['Photo Editor & Candy Camera & Grid & ScrapBook', 'ART_AND_DESIGN', '4.1', '159', '19M', '10,000+', 'Free', '0', 'Everyone', 'Art & Design', 'January 7, 2018', '1.0.0', '4.0.3 and up']\n",
      "\n",
      "\n",
      "['Coloring book moana', 'ART_AND_DESIGN', '3.9', '967', '14M', '500,000+', 'Free', '0', 'Everyone', 'Art & Design;Pretend Play', 'January 15, 2018', '2.0.0', '4.0.3 and up']\n",
      "\n",
      "\n",
      "the number of rows: 10841\n",
      "the number of columns: 13\n"
     ]
    }
   ],
   "source": [
    "print('Google_PlayStore: ')\n",
    "explore_data(data2[1:], 0, 2, rows_and_columns=True)"
   ]
  },
  {
   "cell_type": "code",
   "execution_count": 8,
   "id": "9ca250cd",
   "metadata": {},
   "outputs": [
    {
     "name": "stdout",
     "output_type": "stream",
     "text": [
      "Apple_store_column_names:\n",
      " ['id', 'track_name', 'size_bytes', 'currency', 'price', 'rating_count_tot', 'rating_count_ver', 'user_rating', 'user_rating_ver', 'ver', 'cont_rating', 'prime_genre', 'sup_devices.num', 'ipadSc_urls.num', 'lang.num', 'vpp_lic']\n",
      "\n",
      "\n",
      "google_playStore_column_names:\n",
      " ['App', 'Category', 'Rating', 'Reviews', 'Size', 'Installs', 'Type', 'Price', 'Content Rating', 'Genres', 'Last Updated', 'Current Ver', 'Android Ver']\n"
     ]
    }
   ],
   "source": [
    "Apple_store_column_names = data1[0]\n",
    "google_playStore_column_names = data2[0]\n",
    "\n",
    "print(\"Apple_store_column_names:\\n\",Apple_store_column_names)\n",
    "print('\\n')\n",
    "print(\"google_playStore_column_names:\\n\",google_playStore_column_names)"
   ]
  },
  {
   "cell_type": "markdown",
   "id": "c9357997",
   "metadata": {},
   "source": [
    "## Removing Duplicate Entries\n",
    "the data cleaning process and deleted a row with incorrect data "
   ]
  },
  {
   "cell_type": "code",
   "execution_count": 9,
   "id": "fd99e0f7",
   "metadata": {
    "scrolled": true
   },
   "outputs": [
    {
     "name": "stdout",
     "output_type": "stream",
     "text": [
      "['Instagram', 'SOCIAL', '4.5', '66577313', 'Varies with device', '1,000,000,000+', 'Free', '0', 'Teen', 'Social', 'July 31, 2018', 'Varies with device', 'Varies with device']\n",
      "['Instagram', 'SOCIAL', '4.5', '66577446', 'Varies with device', '1,000,000,000+', 'Free', '0', 'Teen', 'Social', 'July 31, 2018', 'Varies with device', 'Varies with device']\n",
      "['Instagram', 'SOCIAL', '4.5', '66577313', 'Varies with device', '1,000,000,000+', 'Free', '0', 'Teen', 'Social', 'July 31, 2018', 'Varies with device', 'Varies with device']\n",
      "['Instagram', 'SOCIAL', '4.5', '66509917', 'Varies with device', '1,000,000,000+', 'Free', '0', 'Teen', 'Social', 'July 31, 2018', 'Varies with device', 'Varies with device']\n"
     ]
    }
   ],
   "source": [
    "for app in data2:\n",
    "    name = app[0]\n",
    "    if name == 'Instagram':\n",
    "        print(app)"
   ]
  },
  {
   "cell_type": "code",
   "execution_count": 10,
   "id": "8790c39f",
   "metadata": {},
   "outputs": [
    {
     "name": "stdout",
     "output_type": "stream",
     "text": [
      "the number of duplicate apps: 1181\n",
      "the number of unique apps: 9661\n"
     ]
    }
   ],
   "source": [
    "unique_apps = []\n",
    "duplicate_apps = []\n",
    "\n",
    "for app in data2:\n",
    "    name = app[0]\n",
    "    if name in unique_apps:\n",
    "        duplicate_apps.append(name)\n",
    "    else:\n",
    "        unique_apps.append(name)\n",
    "print('the number of duplicate apps:', len(duplicate_apps))\n",
    "print('the number of unique apps:', len(unique_apps))"
   ]
  },
  {
   "cell_type": "markdown",
   "id": "be3559d9",
   "metadata": {},
   "source": [
    "# Creation of a dictionary"
   ]
  },
  {
   "cell_type": "code",
   "execution_count": 11,
   "id": "337ff42d",
   "metadata": {},
   "outputs": [
    {
     "name": "stdout",
     "output_type": "stream",
     "text": [
      "lengh of reviews_max:  9660\n"
     ]
    }
   ],
   "source": [
    "reviews_max = {}\n",
    "for app in data2[1:]:\n",
    "    name = app[0]\n",
    "    n_reviews = float(app[2])\n",
    "    if name in reviews_max and n_reviews > reviews_max[name]:\n",
    "        reviews_max[name] = n_reviews    \n",
    "    elif name not in reviews_max:\n",
    "        reviews_max[name] = n_reviews\n",
    "print('lengh of reviews_max: ', len(reviews_max))\n"
   ]
  },
  {
   "cell_type": "code",
   "execution_count": 12,
   "id": "138e5b06",
   "metadata": {},
   "outputs": [],
   "source": [
    "android_clean = []\n",
    "already_added = []\n",
    "for app in data2[1:]:\n",
    "    name = app[0]\n",
    "    n_reviews = float(app[2])\n",
    "    if n_reviews == reviews_max[name] and name not in already_added:\n",
    "        android_clean.append(app)\n",
    "        already_added.append(name)"
   ]
  },
  {
   "cell_type": "code",
   "execution_count": 13,
   "id": "7a0dc719",
   "metadata": {},
   "outputs": [
    {
     "name": "stdout",
     "output_type": "stream",
     "text": [
      "['Photo Editor & Candy Camera & Grid & ScrapBook', 'ART_AND_DESIGN', '4.1', '159', '19M', '10,000+', 'Free', '0', 'Everyone', 'Art & Design', 'January 7, 2018', '1.0.0', '4.0.3 and up']\n",
      "\n",
      "\n",
      "['Coloring book moana', 'ART_AND_DESIGN', '3.9', '967', '14M', '500,000+', 'Free', '0', 'Everyone', 'Art & Design;Pretend Play', 'January 15, 2018', '2.0.0', '4.0.3 and up']\n",
      "\n",
      "\n",
      "the number of rows: 8197\n",
      "the number of columns: 13\n"
     ]
    }
   ],
   "source": [
    "explore_data(android_clean, 0, 2, True)"
   ]
  },
  {
   "cell_type": "markdown",
   "id": "7645b1ed",
   "metadata": {},
   "source": [
    "# Removing Non-English Apps:"
   ]
  },
  {
   "cell_type": "code",
   "execution_count": 14,
   "id": "da2e9d6c",
   "metadata": {},
   "outputs": [],
   "source": [
    "def english_or_no(string):\n",
    "    n=0\n",
    "    for letter in string:\n",
    "        if ord(letter) > 127:\n",
    "            n += 1\n",
    "    if n > 3:\n",
    "        return False\n",
    "    return True"
   ]
  },
  {
   "cell_type": "code",
   "execution_count": 15,
   "id": "b1fec5bc",
   "metadata": {},
   "outputs": [
    {
     "name": "stdout",
     "output_type": "stream",
     "text": [
      "True\n",
      "True\n",
      "False\n"
     ]
    }
   ],
   "source": [
    "print(english_or_no('Docs To Go™ Free Office Suite'))\n",
    "print(english_or_no('Instachat 😜'))\n",
    "print(english_or_no('爱奇艺PPS -《欢乐颂2》电视剧热播'))"
   ]
  },
  {
   "cell_type": "code",
   "execution_count": 16,
   "id": "a360a670",
   "metadata": {},
   "outputs": [],
   "source": [
    "english_android = []\n",
    "english_ios = []\n",
    "for app in android_clean:\n",
    "    name = app[0]\n",
    "    if english_or_no(name):\n",
    "        english_android.append(app)\n",
    "        "
   ]
  },
  {
   "cell_type": "code",
   "execution_count": 17,
   "id": "be907766",
   "metadata": {},
   "outputs": [
    {
     "name": "stdout",
     "output_type": "stream",
     "text": [
      "['Photo Editor & Candy Camera & Grid & ScrapBook', 'ART_AND_DESIGN', '4.1', '159', '19M', '10,000+', 'Free', '0', 'Everyone', 'Art & Design', 'January 7, 2018', '1.0.0', '4.0.3 and up']\n",
      "\n",
      "\n",
      "['Coloring book moana', 'ART_AND_DESIGN', '3.9', '967', '14M', '500,000+', 'Free', '0', 'Everyone', 'Art & Design;Pretend Play', 'January 15, 2018', '2.0.0', '4.0.3 and up']\n",
      "\n",
      "\n",
      "['U Launcher Lite – FREE Live Cool Themes, Hide Apps', 'ART_AND_DESIGN', '4.7', '87510', '8.7M', '5,000,000+', 'Free', '0', 'Everyone', 'Art & Design', 'August 1, 2018', '1.2.4', '4.0.3 and up']\n",
      "\n",
      "\n",
      "the number of rows: 8167\n",
      "the number of columns: 13\n"
     ]
    }
   ],
   "source": [
    "explore_data(english_android, 0, 3, True)"
   ]
  },
  {
   "cell_type": "markdown",
   "id": "f3057a2e",
   "metadata": {},
   "source": [
    "# Isolating the Free Apps\n"
   ]
  },
  {
   "cell_type": "code",
   "execution_count": 18,
   "id": "268b7c3c",
   "metadata": {},
   "outputs": [],
   "source": [
    "free_android = []\n",
    "for app in english_android:\n",
    "    price = app[7]\n",
    "    if price == '0':\n",
    "        free_android.append(app)"
   ]
  },
  {
   "cell_type": "code",
   "execution_count": 19,
   "id": "154e9983",
   "metadata": {},
   "outputs": [
    {
     "name": "stdout",
     "output_type": "stream",
     "text": [
      "['Photo Editor & Candy Camera & Grid & ScrapBook', 'ART_AND_DESIGN', '4.1', '159', '19M', '10,000+', 'Free', '0', 'Everyone', 'Art & Design', 'January 7, 2018', '1.0.0', '4.0.3 and up']\n",
      "\n",
      "\n",
      "['Coloring book moana', 'ART_AND_DESIGN', '3.9', '967', '14M', '500,000+', 'Free', '0', 'Everyone', 'Art & Design;Pretend Play', 'January 15, 2018', '2.0.0', '4.0.3 and up']\n",
      "\n",
      "\n",
      "['U Launcher Lite – FREE Live Cool Themes, Hide Apps', 'ART_AND_DESIGN', '4.7', '87510', '8.7M', '5,000,000+', 'Free', '0', 'Everyone', 'Art & Design', 'August 1, 2018', '1.2.4', '4.0.3 and up']\n",
      "\n",
      "\n",
      "['Sketch - Draw & Paint', 'ART_AND_DESIGN', '4.5', '215644', '25M', '50,000,000+', 'Free', '0', 'Teen', 'Art & Design', 'June 8, 2018', 'Varies with device', '4.2 and up']\n",
      "\n",
      "\n",
      "['Pixel Draw - Number Art Coloring Book', 'ART_AND_DESIGN', '4.3', '967', '2.8M', '100,000+', 'Free', '0', 'Everyone', 'Art & Design;Creativity', 'June 20, 2018', '1.1', '4.4 and up']\n",
      "\n",
      "\n",
      "the number of rows: 7565\n",
      "the number of columns: 13\n"
     ]
    }
   ],
   "source": [
    "explore_data(free_android, 0, 5, True)"
   ]
  },
  {
   "cell_type": "markdown",
   "id": "7a7fe865",
   "metadata": {},
   "source": [
    "# Most Common Apps by Genre:"
   ]
  },
  {
   "cell_type": "code",
   "execution_count": 20,
   "id": "2f70b707",
   "metadata": {},
   "outputs": [],
   "source": [
    "def freq_table(dataset, index):\n",
    "    frequency_table = {}\n",
    "    for row in dataset:\n",
    "        x = row[index]\n",
    "        if x in frequency_table:\n",
    "            frequency_table[x] += 1\n",
    "        else:\n",
    "            frequency_table[x] = 1\n",
    "    for key in frequency_table:\n",
    "        frequency_table[key]= frequency_table[key]/len(dataset) * 100\n",
    "    return frequency_table"
   ]
  },
  {
   "cell_type": "code",
   "execution_count": 21,
   "id": "977f86bc",
   "metadata": {},
   "outputs": [],
   "source": [
    "def display_table(dataset, index):\n",
    "    table = freq_table(dataset, index)\n",
    "    table_display = []\n",
    "    for key in table:\n",
    "        key_val_as_tuple = (table[key], key)\n",
    "        table_display.append(key_val_as_tuple)\n",
    "\n",
    "    table_sorted = sorted(table_display, reverse = True)\n",
    "    for entry in table_sorted:\n",
    "        print(entry[1], ':', entry[0])"
   ]
  },
  {
   "cell_type": "code",
   "execution_count": 22,
   "id": "ac5282ae",
   "metadata": {},
   "outputs": [
    {
     "name": "stdout",
     "output_type": "stream",
     "text": [
      "Tools : 8.658294778585592\n",
      "Entertainment : 6.014540647719762\n",
      "Education : 5.393258426966292\n",
      "Finance : 3.8202247191011236\n",
      "Productivity : 3.727693324520819\n",
      "Lifestyle : 3.674818241903503\n",
      "Action : 3.5426305353602117\n",
      "Business : 3.344348975545274\n",
      "Photography : 3.2782551222736287\n",
      "Sports : 3.2253800396563124\n",
      "Communication : 3.0931923331130204\n",
      "Personalization : 3.0799735624586915\n",
      "Health & Fitness : 3.0667547918043625\n",
      "Medical : 3.0138797091870457\n",
      "Social : 2.6569729015201586\n",
      "News & Magazines : 2.6173165895571713\n",
      "Travel & Local : 2.3529411764705883\n",
      "Shopping : 2.3529411764705883\n",
      "Simulation : 2.313284864507601\n",
      "Books & Reference : 2.1017845340383343\n",
      "Arcade : 2.0356906807666886\n",
      "Casual : 1.982815598149372\n",
      "Video Players & Editors : 1.890284203569068\n",
      "Dating : 1.7316589557171185\n",
      "Maps & Navigation : 1.4805023132848645\n",
      "Food & Drink : 1.2161269001982815\n",
      "Racing : 1.1103767349636484\n",
      "Puzzle : 1.0971579643093192\n",
      "Role Playing : 1.0575016523463316\n",
      "Strategy : 1.0178453403833443\n",
      "Auto & Vehicles : 0.9517514871116985\n",
      "Weather : 0.8592200925313946\n",
      "Libraries & Demo : 0.8460013218770654\n",
      "House & Home : 0.8195637805684072\n",
      "Adventure : 0.7666886979510906\n",
      "Comics : 0.6873760740251157\n",
      "Art & Design : 0.6741573033707865\n",
      "Events : 0.5948446794448117\n",
      "Beauty : 0.5551883674818242\n",
      "Parenting : 0.5023132848645075\n",
      "Card : 0.5023132848645075\n",
      "Casino : 0.4758757435558493\n",
      "Educational;Education : 0.4362194315928619\n",
      "Board : 0.4230006609385327\n",
      "Educational : 0.39656311962987445\n",
      "Education;Education : 0.39656311962987445\n",
      "Trivia : 0.356906807666887\n",
      "Word : 0.29081295439524124\n",
      "Casual;Pretend Play : 0.2775941837409121\n",
      "Music : 0.22471910112359553\n",
      "Racing;Action & Adventure : 0.19828155981493722\n",
      "Puzzle;Brain Games : 0.19828155981493722\n",
      "Entertainment;Music & Video : 0.19828155981493722\n",
      "Casual;Brain Games : 0.15862524785194976\n",
      "Casual;Action & Adventure : 0.15862524785194976\n",
      "Arcade;Action & Adventure : 0.13218770654329146\n",
      "Action;Action & Adventure : 0.11896893588896232\n",
      "Educational;Pretend Play : 0.10575016523463318\n",
      "Simulation;Action & Adventure : 0.09253139458030403\n",
      "Entertainment;Brain Games : 0.09253139458030403\n",
      "Board;Brain Games : 0.09253139458030403\n",
      "Parenting;Music & Video : 0.07931262392597488\n",
      "Educational;Brain Games : 0.07931262392597488\n",
      "Casual;Creativity : 0.07931262392597488\n",
      "Art & Design;Creativity : 0.07931262392597488\n",
      "Education;Pretend Play : 0.06609385327164573\n",
      "Role Playing;Pretend Play : 0.05287508261731659\n",
      "Education;Creativity : 0.05287508261731659\n",
      "Role Playing;Action & Adventure : 0.03965631196298744\n",
      "Puzzle;Action & Adventure : 0.03965631196298744\n",
      "Parenting;Education : 0.03965631196298744\n",
      "Entertainment;Creativity : 0.03965631196298744\n",
      "Entertainment;Action & Adventure : 0.03965631196298744\n",
      "Educational;Creativity : 0.03965631196298744\n",
      "Educational;Action & Adventure : 0.03965631196298744\n",
      "Education;Music & Video : 0.03965631196298744\n",
      "Education;Brain Games : 0.03965631196298744\n",
      "Education;Action & Adventure : 0.03965631196298744\n",
      "Adventure;Action & Adventure : 0.03965631196298744\n",
      "Video Players & Editors;Music & Video : 0.026437541308658295\n",
      "Sports;Action & Adventure : 0.026437541308658295\n",
      "Simulation;Pretend Play : 0.026437541308658295\n",
      "Puzzle;Creativity : 0.026437541308658295\n",
      "Music;Music & Video : 0.026437541308658295\n",
      "Entertainment;Pretend Play : 0.026437541308658295\n",
      "Casual;Education : 0.026437541308658295\n",
      "Board;Action & Adventure : 0.026437541308658295\n",
      "Video Players & Editors;Creativity : 0.013218770654329148\n",
      "Travel & Local;Action & Adventure : 0.013218770654329148\n",
      "Tools;Education : 0.013218770654329148\n",
      "Strategy;Education : 0.013218770654329148\n",
      "Strategy;Creativity : 0.013218770654329148\n",
      "Strategy;Action & Adventure : 0.013218770654329148\n",
      "Simulation;Education : 0.013218770654329148\n",
      "Role Playing;Brain Games : 0.013218770654329148\n",
      "Racing;Pretend Play : 0.013218770654329148\n",
      "Puzzle;Education : 0.013218770654329148\n",
      "Parenting;Brain Games : 0.013218770654329148\n",
      "Music & Audio;Music & Video : 0.013218770654329148\n",
      "Lifestyle;Pretend Play : 0.013218770654329148\n",
      "Lifestyle;Education : 0.013218770654329148\n",
      "Health & Fitness;Education : 0.013218770654329148\n",
      "Health & Fitness;Action & Adventure : 0.013218770654329148\n",
      "Entertainment;Education : 0.013218770654329148\n",
      "Communication;Creativity : 0.013218770654329148\n",
      "Comics;Creativity : 0.013218770654329148\n",
      "Casual;Music & Video : 0.013218770654329148\n",
      "Card;Action & Adventure : 0.013218770654329148\n",
      "Books & Reference;Education : 0.013218770654329148\n",
      "Art & Design;Pretend Play : 0.013218770654329148\n",
      "Arcade;Pretend Play : 0.013218770654329148\n",
      "Adventure;Education : 0.013218770654329148\n"
     ]
    }
   ],
   "source": [
    "#genres\n",
    "display_table(free_android, 9)"
   ]
  },
  {
   "cell_type": "code",
   "execution_count": 23,
   "id": "5018bf73",
   "metadata": {},
   "outputs": [
    {
     "name": "stdout",
     "output_type": "stream",
     "text": [
      "FAMILY : 19.07468605419696\n",
      "GAME : 11.037673496364839\n",
      "TOOLS : 8.67151354923992\n",
      "FINANCE : 3.8202247191011236\n",
      "PRODUCTIVITY : 3.727693324520819\n",
      "LIFESTYLE : 3.688037012557832\n",
      "BUSINESS : 3.344348975545274\n",
      "PHOTOGRAPHY : 3.2782551222736287\n",
      "SPORTS : 3.146067415730337\n",
      "COMMUNICATION : 3.0931923331130204\n",
      "PERSONALIZATION : 3.0799735624586915\n",
      "HEALTH_AND_FITNESS : 3.0667547918043625\n",
      "MEDICAL : 3.0138797091870457\n",
      "SOCIAL : 2.6569729015201586\n",
      "NEWS_AND_MAGAZINES : 2.6173165895571713\n",
      "TRAVEL_AND_LOCAL : 2.3661599471249173\n",
      "SHOPPING : 2.3529411764705883\n",
      "BOOKS_AND_REFERENCE : 2.1017845340383343\n",
      "VIDEO_PLAYERS : 1.903502974223397\n",
      "DATING : 1.7316589557171185\n",
      "EDUCATION : 1.4937210839391937\n",
      "MAPS_AND_NAVIGATION : 1.4805023132848645\n",
      "ENTERTAINMENT : 1.3218770654329148\n",
      "FOOD_AND_DRINK : 1.2161269001982815\n",
      "AUTO_AND_VEHICLES : 0.9517514871116985\n",
      "WEATHER : 0.8592200925313946\n",
      "LIBRARIES_AND_DEMO : 0.8460013218770654\n",
      "HOUSE_AND_HOME : 0.8195637805684072\n",
      "ART_AND_DESIGN : 0.7534699272967614\n",
      "COMICS : 0.7005948446794449\n",
      "PARENTING : 0.634500991407799\n",
      "EVENTS : 0.5948446794448117\n",
      "BEAUTY : 0.5551883674818242\n"
     ]
    }
   ],
   "source": [
    "#category\n",
    "display_table(free_android, 1)"
   ]
  },
  {
   "cell_type": "markdown",
   "id": "473a8864",
   "metadata": {},
   "source": [
    "# Most Popular Apps by Genre on the App Store"
   ]
  },
  {
   "cell_type": "code",
   "execution_count": null,
   "id": "cf139db8",
   "metadata": {},
   "outputs": [],
   "source": []
  },
  {
   "cell_type": "code",
   "execution_count": null,
   "id": "07c6054f",
   "metadata": {},
   "outputs": [],
   "source": []
  }
 ],
 "metadata": {
  "kernelspec": {
   "display_name": "Python 3 (ipykernel)",
   "language": "python",
   "name": "python3"
  },
  "language_info": {
   "codemirror_mode": {
    "name": "ipython",
    "version": 3
   },
   "file_extension": ".py",
   "mimetype": "text/x-python",
   "name": "python",
   "nbconvert_exporter": "python",
   "pygments_lexer": "ipython3",
   "version": "3.9.12"
  }
 },
 "nbformat": 4,
 "nbformat_minor": 5
}
